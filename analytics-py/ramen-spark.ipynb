{
 "cells": [
  {
   "cell_type": "code",
   "execution_count": 1,
   "id": "regulated-comparison",
   "metadata": {},
   "outputs": [],
   "source": [
    "import pyspark\n",
    "from pyspark.sql import SparkSession"
   ]
  },
  {
   "cell_type": "code",
   "execution_count": 2,
   "id": "korean-festival",
   "metadata": {},
   "outputs": [],
   "source": [
    "spark = SparkSession.builder.master('local[*]').appName('ramen-play').getOrCreate()"
   ]
  },
  {
   "cell_type": "code",
   "execution_count": 3,
   "id": "excellent-zoning",
   "metadata": {},
   "outputs": [],
   "source": [
    "ramen_df = spark.read.option('header',True) \\\n",
    ".option('inferSchema',True) \\\n",
    ".csv('ramen-ratings.csv')"
   ]
  },
  {
   "cell_type": "code",
   "execution_count": 14,
   "id": "political-accused",
   "metadata": {},
   "outputs": [
    {
     "name": "stdout",
     "output_type": "stream",
     "text": [
      "root\n",
      " |-- Review #: string (nullable = true)\n",
      " |-- Brand: string (nullable = true)\n",
      " |-- Variety: string (nullable = true)\n",
      " |-- Style: string (nullable = true)\n",
      " |-- Country: string (nullable = true)\n",
      " |-- Stars: string (nullable = true)\n",
      " |-- Top Ten: string (nullable = true)\n",
      "\n"
     ]
    }
   ],
   "source": [
    "ramen_df.printSchema()"
   ]
  },
  {
   "cell_type": "code",
   "execution_count": 4,
   "id": "sonic-designation",
   "metadata": {},
   "outputs": [
    {
     "name": "stdout",
     "output_type": "stream",
     "text": [
      "+--------+--------------+-----------------------------------------------------------+-----+-----------+-----+-------+\n",
      "|Review #|Brand         |Variety                                                    |Style|Country    |Stars|Top Ten|\n",
      "+--------+--------------+-----------------------------------------------------------+-----+-----------+-----+-------+\n",
      "|2580    |New Touch     |T's Restaurant Tantanmen                                   |Cup  |Japan      |3.75 |null   |\n",
      "|2579    |Just Way      |Noodles Spicy Hot Sesame Spicy Hot Sesame Guan-miao Noodles|Pack |Taiwan     |1    |null   |\n",
      "|2578    |Nissin        |Cup Noodles Chicken Vegetable                              |Cup  |USA        |2.25 |null   |\n",
      "|2577    |Wei Lih       |GGE Ramen Snack Tomato Flavor                              |Pack |Taiwan     |2.75 |null   |\n",
      "|2576    |Ching's Secret|Singapore Curry                                            |Pack |India      |3.75 |null   |\n",
      "|2575    |Samyang Foods |Kimchi song Song Ramen                                     |Pack |South Korea|4.75 |null   |\n",
      "|2574    |Acecook       |Spice Deli Tantan Men With Cilantro                        |Cup  |Japan      |4    |null   |\n",
      "|2573    |Ikeda Shoku   |Nabeyaki Kitsune Udon                                      |Tray |Japan      |3.75 |null   |\n",
      "|2572    |Ripe'n'Dry    |Hokkaido Soy Sauce Ramen                                   |Pack |Japan      |0.25 |null   |\n",
      "|2571    |KOKA          |The Original Spicy Stir-Fried Noodles                      |Pack |Singapore  |2.5  |null   |\n",
      "|2570    |Tao Kae Noi   |Creamy tom Yum Kung Flavour                                |Pack |Thailand   |5    |null   |\n",
      "|2569    |Yamachan      |Yokohama Tonkotsu Shoyu                                    |Pack |USA        |5    |null   |\n",
      "|2568    |Nongshim      |Mr. Bibim Stir-Fried Kimchi Flavor                         |Pack |South Korea|4.25 |null   |\n",
      "|2567    |Nissin        |Deka Buto Kimchi Pork Flavor                               |Bowl |Japan      |4.5  |null   |\n",
      "|2566    |Nissin        |Demae Ramen Bar Noodle Aka Tonkotsu Flavour Instant Noodle |Pack |Hong Kong  |5    |null   |\n",
      "|2565    |KOKA          |Mushroom Flavour Instant Noodles                           |Cup  |Singapore  |3.5  |null   |\n",
      "|2564    |TRDP          |Mario Masala Noodles                                       |Pack |India      |3.75 |null   |\n",
      "|2563    |Yamachan      |Tokyo Shoyu Ramen                                          |Pack |USA        |5    |null   |\n",
      "|2562    |Binh Tay      |Mi Hai Cua                                                 |Pack |Vietnam    |4    |null   |\n",
      "|2561    |Paldo         |Premium Gomtang                                            |Pack |South Korea|4    |null   |\n",
      "+--------+--------------+-----------------------------------------------------------+-----+-----------+-----+-------+\n",
      "only showing top 20 rows\n",
      "\n"
     ]
    }
   ],
   "source": [
    "ramen_df.show(20,False)"
   ]
  },
  {
   "cell_type": "code",
   "execution_count": 5,
   "id": "catholic-bradley",
   "metadata": {},
   "outputs": [
    {
     "name": "stdout",
     "output_type": "stream",
     "text": [
      "+--------+\n",
      "| Top Ten|\n",
      "+--------+\n",
      "| 2016 #5|\n",
      "| 2016 #9|\n",
      "| 2015 #9|\n",
      "| 2013 #1|\n",
      "| 2012 #4|\n",
      "|2014 #10|\n",
      "| 2013 #9|\n",
      "| 2015 #8|\n",
      "| 2012 #5|\n",
      "| 2016 #1|\n",
      "|    null|\n",
      "| 2014 #7|\n",
      "| 2015 #4|\n",
      "| 2014 #8|\n",
      "|2015 #10|\n",
      "| 2013 #6|\n",
      "|2012 #10|\n",
      "| 2015 #6|\n",
      "| 2015 #1|\n",
      "| 2012 #2|\n",
      "+--------+\n",
      "only showing top 20 rows\n",
      "\n"
     ]
    }
   ],
   "source": [
    "ramen_df.select('Top Ten').distinct().show()"
   ]
  },
  {
   "cell_type": "raw",
   "id": "worldwide-equation",
   "metadata": {},
   "source": []
  }
 ],
 "metadata": {
  "kernelspec": {
   "display_name": "Python 3",
   "language": "python",
   "name": "python3"
  },
  "language_info": {
   "codemirror_mode": {
    "name": "ipython",
    "version": 3
   },
   "file_extension": ".py",
   "mimetype": "text/x-python",
   "name": "python",
   "nbconvert_exporter": "python",
   "pygments_lexer": "ipython3",
   "version": "3.6.0"
  }
 },
 "nbformat": 4,
 "nbformat_minor": 5
}
