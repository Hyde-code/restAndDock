{
 "cells": [
  {
   "cell_type": "code",
   "execution_count": 1,
   "id": "neither-gilbert",
   "metadata": {},
   "outputs": [],
   "source": [
    "import RamensProto_pb2 as protoFile\n",
    "import SimpleProto_pb2 as simpleProto"
   ]
  },
  {
   "cell_type": "code",
   "execution_count": 34,
   "id": "breathing-wallet",
   "metadata": {},
   "outputs": [],
   "source": [
    "import base64\n",
    "message_1 = 'CghTbW9vZGxlcxHvv73vv73vv73vv73vv71MNEAaGgoOcmFtZW5fbG92ZV8wMDESCFNwaWN5ICEh'\n",
    "message_2 = 'CghTbW9vZGxlcxHvv73vv73vv73vv73vv71MNEAaGgoOcmFtZW5fbG92ZV8wMDESCFNwaWN5ICEh'\n",
    "message_4 = 'CghTbW9vZGxlcxHvv73vv73vv73vv73vv71MNEAaGgoOcmFtZW5fbG92ZV8wMDESCFNwaWN5ICEh'\n",
    "message_3 = 'CgVUYWdneQ=='\n",
    "message_5 = 'CghTbW9vZGxlcxHvv73vv73vv73vv73vv71MNEAaGgoOcmFtZW5fbG92ZV8wMDESCFNwaWN5ICEh'\n",
    "message_6 = 'CghTbW9vZGxlcxHvv73vv73vv73vv73vv71MNEA='\n",
    "message_7 = 'Ec3MzMzMTDRAGhcKDnJhbWVubG92ZXJfMjAyEgVzcGljeQ=='\n",
    "message_8 = 'CghTbW9vZGxlcxHNzMzMzEw0QBoXCg5yYW1lbmxvdmVyXzIwMhIFc3BpY3k='\n",
    "#protoString = bytes(base64.b64encode(message.encode('ascii')))\n",
    "#type(protoString)"
   ]
  },
  {
   "cell_type": "code",
   "execution_count": 28,
   "id": "occasional-plastic",
   "metadata": {},
   "outputs": [],
   "source": [
    "ramens = protoFile.Ramens()\n",
    "simpleTest = simpleProto.SimpleModel()"
   ]
  },
  {
   "cell_type": "code",
   "execution_count": null,
   "id": "brave-pastor",
   "metadata": {},
   "outputs": [],
   "source": [
    "type(simpleTest)"
   ]
  },
  {
   "cell_type": "code",
   "execution_count": null,
   "id": "greek-spokesman",
   "metadata": {},
   "outputs": [],
   "source": [
    "from google.protobuf.message import DecodeError  \n",
    "import traceback\n",
    "simpleTest.ParseFromString((base64.b64decode(message_3)))\n",
    "\n",
    "print(simpleTest)\n",
    "    \n"
   ]
  },
  {
   "cell_type": "code",
   "execution_count": null,
   "id": "moving-agriculture",
   "metadata": {},
   "outputs": [],
   "source": [
    "type(test)"
   ]
  },
  {
   "cell_type": "code",
   "execution_count": 35,
   "id": "nominated-facing",
   "metadata": {},
   "outputs": [
    {
     "data": {
      "text/plain": [
       "44"
      ]
     },
     "execution_count": 35,
     "metadata": {},
     "output_type": "execute_result"
    }
   ],
   "source": [
    "## from google.protobuf.message import DecodeError  \n",
    "import traceback\n",
    "ramens.ParseFromString((base64.b64decode(message_8)))\n",
    "    \n",
    "    \n"
   ]
  },
  {
   "cell_type": "code",
   "execution_count": 36,
   "id": "catholic-reproduction",
   "metadata": {},
   "outputs": [
    {
     "name": "stdout",
     "output_type": "stream",
     "text": [
      "ramenName: \"Smoodles\"\n",
      "inrRate: 20.3\n",
      "comments {\n",
      "  commentFrom: \"ramenlover_202\"\n",
      "  comment: \"spicy\"\n",
      "}\n",
      "\n"
     ]
    }
   ],
   "source": [
    "print (ramens)"
   ]
  },
  {
   "cell_type": "markdown",
   "id": "velvet-ecuador",
   "metadata": {},
   "source": [
    "## Building proto "
   ]
  },
  {
   "cell_type": "code",
   "execution_count": 9,
   "id": "multiple-phoenix",
   "metadata": {},
   "outputs": [],
   "source": [
    "comments = protoFile.Ramens().RamenComments()"
   ]
  },
  {
   "cell_type": "code",
   "execution_count": 11,
   "id": "packed-archive",
   "metadata": {},
   "outputs": [],
   "source": [
    "comments.comment = 'spicy !!'\n",
    "comments.commentFrom = 'ramenlover_202'"
   ]
  },
  {
   "cell_type": "code",
   "execution_count": 14,
   "id": "academic-above",
   "metadata": {},
   "outputs": [],
   "source": [
    "ramen_obj =  protoFile.Ramens()\n",
    "ramen_obj.inrRate = 20.30\n"
   ]
  },
  {
   "cell_type": "code",
   "execution_count": 15,
   "id": "undefined-costa",
   "metadata": {},
   "outputs": [],
   "source": [
    "comments_first = ramen_obj.comments.add()"
   ]
  },
  {
   "cell_type": "code",
   "execution_count": 17,
   "id": "artificial-semiconductor",
   "metadata": {},
   "outputs": [],
   "source": [
    "comments_first.comment = 'spicy'\n",
    "comments_first.commentFrom = 'ramenlover_202'"
   ]
  },
  {
   "cell_type": "code",
   "execution_count": 24,
   "id": "instant-klein",
   "metadata": {},
   "outputs": [
    {
     "data": {
      "text/plain": [
       "bytes"
      ]
     },
     "execution_count": 24,
     "metadata": {},
     "output_type": "execute_result"
    }
   ],
   "source": [
    "str_op = ramen_obj.SerializeToString()\n",
    "type(str_op)"
   ]
  },
  {
   "cell_type": "code",
   "execution_count": 25,
   "id": "chicken-traveler",
   "metadata": {},
   "outputs": [],
   "source": [
    "base64String = base64.b64encode(str_op)"
   ]
  },
  {
   "cell_type": "code",
   "execution_count": 26,
   "id": "engaging-monaco",
   "metadata": {},
   "outputs": [
    {
     "data": {
      "text/plain": [
       "b'Ec3MzMzMTDRAGhcKDnJhbWVubG92ZXJfMjAyEgVzcGljeQ=='"
      ]
     },
     "execution_count": 26,
     "metadata": {},
     "output_type": "execute_result"
    }
   ],
   "source": [
    "base64String"
   ]
  }
 ],
 "metadata": {
  "kernelspec": {
   "display_name": "Python 3",
   "language": "python",
   "name": "python3"
  },
  "language_info": {
   "codemirror_mode": {
    "name": "ipython",
    "version": 3
   },
   "file_extension": ".py",
   "mimetype": "text/x-python",
   "name": "python",
   "nbconvert_exporter": "python",
   "pygments_lexer": "ipython3",
   "version": "3.6.0"
  }
 },
 "nbformat": 4,
 "nbformat_minor": 5
}
